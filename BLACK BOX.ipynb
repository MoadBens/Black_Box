{
 "cells": [
  {
   "cell_type": "markdown",
   "id": "4f391c38",
   "metadata": {},
   "source": [
    "## IMPORTATION DES BIBILIOTHEQUES "
   ]
  },
  {
   "cell_type": "code",
   "execution_count": 33,
   "id": "5fda01bf",
   "metadata": {},
   "outputs": [],
   "source": [
    "import pandas as pd #bibliotheque pour lire le fichier excel\n",
    "import subprocess #bibliotheque pour execute une ligne de commande et stocker le resultat\n",
    "import os"
   ]
  },
  {
   "cell_type": "markdown",
   "id": "e190f583",
   "metadata": {},
   "source": [
    "**Ouverture du fichier Excel et lecture des 100 premières lignes**"
   ]
  },
  {
   "cell_type": "code",
   "execution_count": 34,
   "id": "c5666340",
   "metadata": {},
   "outputs": [],
   "source": [
    "#LECTURE DES VALEURS DU FICHIER EXCEL\n",
    "xls = pd.ExcelFile('DataProjet2023.xlsb')\n",
    "df= pd.read_excel(xls, nrows=100, header=2)\n",
    "df1=df.values.tolist()"
   ]
  },
  {
   "cell_type": "markdown",
   "id": "e66b4a2f",
   "metadata": {},
   "source": [
    "**On stocke les données dans une liste**"
   ]
  },
  {
   "cell_type": "code",
   "execution_count": 35,
   "id": "a1927e9d",
   "metadata": {},
   "outputs": [],
   "source": [
    "debit_total=[] #LISTE DU DEBIT TOTAL CHAQUE LIGNE"
   ]
  },
  {
   "cell_type": "code",
   "execution_count": 36,
   "id": "37eafb85",
   "metadata": {},
   "outputs": [],
   "source": [
    "#BOUCLE POUR REMPLIR LA LISTE\n",
    "for i in range(len(df1)):\n",
    "        debit_total.append(df1[i][2])"
   ]
  },
  {
   "cell_type": "markdown",
   "id": "33c51f6b",
   "metadata": {},
   "source": [
    "**On envoie les données vers un fichier texte du nom \"data.txt\"**"
   ]
  },
  {
   "cell_type": "code",
   "execution_count": 8,
   "id": "88a6f3f6",
   "metadata": {},
   "outputs": [],
   "source": [
    "i=0 #COMPTEUR POUR CHAQUE LIGNE\n",
    "#ECRITURE SUR LE FICHIER TEXTE QUI CONTIENT LA VALEUR DU DEBIT TOTAL\n",
    "with open(\"data.txt\", \"w\") as fichier:\n",
    "    fichier.write(str(debit_total[i]))\n",
    "    fichier.close()"
   ]
  },
  {
   "cell_type": "markdown",
   "id": "04f209ea",
   "metadata": {},
   "source": [
    "**Exécution de la ligne de commandes \"nomad param.txt\" directement à partir du script Python**"
   ]
  },
  {
   "cell_type": "code",
   "execution_count": 9,
   "id": "fca9ab7c",
   "metadata": {},
   "outputs": [
    {
     "name": "stdout",
     "output_type": "stream",
     "text": [
      "C:\\Users\\moadb\\Desktop\\Projet3\\Projet3\\nomad\\param.txt\n",
      "76.19219875335693\n"
     ]
    }
   ],
   "source": [
    "#COMMANDE NOMAD PARAM.TXT A ENVOYER EN LIGNE DE COMMANDES\n",
    "import time\n",
    "import os\n",
    "start=time.time()\n",
    "path = os.path.abspath('param.txt')\n",
    "print(path)\n",
    "result = subprocess.run(['cmd', '/c', 'nomad','param.txt'], stdout=subprocess.PIPE)\n",
    "a=result.stdout.decode('utf-8')\n",
    "end=time.time()\n",
    "print(end-start)"
   ]
  },
  {
   "cell_type": "markdown",
   "id": "bf05230e",
   "metadata": {},
   "source": [
    "**On affiche ici ce qui devrait être affiché sur l'invite de commande Windows**"
   ]
  },
  {
   "cell_type": "code",
   "execution_count": 48,
   "id": "82cf38d2",
   "metadata": {},
   "outputs": [
    {
     "name": "stdout",
     "output_type": "stream",
     "text": [
      "\r\n",
      "NOMAD - version 3.9.1 has been created by {\r\n",
      "\tCharles Audet               - Ecole Polytechnique de Montreal\r\n",
      "\tSebastien Le Digabel        - Ecole Polytechnique de Montreal\r\n",
      "\tViviane Rochon Montplaisir  - Ecole Polytechnique de Montreal\r\n",
      "\tChristophe Tribes           - Ecole Polytechnique de Montreal\r\n",
      "} \r\n",
      "\r\n",
      "The copyright of NOMAD - version 3.9.1 is owned by {\r\n",
      "\tSebastien Le Digabel        - Ecole Polytechnique de Montreal\r\n",
      "\tViviane Rochon Montplaisir  - Ecole Polytechnique de Montreal\r\n",
      "\tChristophe Tribes           - Ecole Polytechnique de Montreal\r\n",
      "} \r\n",
      "\r\n",
      "NOMAD version 3 is a new version of Nomad v1 and v2, it has been funded by AFOSR and Exxon Mobil.\r\n",
      "Nomad v1 and v2 were created and developed by Mark A. Abramson from The Boeing Company, Charles Audet \r\n",
      " and Gilles Couture from Ecole Polytechnique de Montreal, and John E. Dennis Jr. from Rice University,\r\n",
      " and were funded by AFOSR and Exxon Mobil.\r\n",
      "\r\n",
      "Download  : www.gerad.ca/nomad\r\n",
      "License   : '%NOMAD_HOME%\\LICENSE or %NOMAD_HOME_PERSONAL%\\src\\lgpl.txt'\r\n",
      "User guide: '%NOMAD_HOME%\\doc\\user_guide.pdf'\r\n",
      "Examples  : '%NOMAD_HOME_PERSONAL%\\examples'\r\n",
      "Tools     : '%NOMAD_HOME_PERSONAL%\\tools'\r\n",
      "\r\n",
      "Please report bugs to nomad@gerad.ca\r\n",
      "\r\n",
      "Seed: 0\r\n",
      "\r\n",
      "MADS run {\r\n",
      "\r\n",
      "\tBBE\t(\tSOL\t)\tOBJ\r\n",
      "\r\n",
      "\t   1\t(\t0.0000000000 0.0000000000 0.0000000000 0.0000000000 0.0000000000 )\t-3.1387200000\r\n",
      "\t   2\t(\t0.0000000000 10.0000000000 10.0000000000 0.0000000000 20.0000000000 )\t-17.6948000000\r\n",
      "\t   3\t(\t0.0000000000 40.0000000000 40.0000000000 0.0000000000 80.0000000000 )\t-58.2066000000\r\n",
      "\t   4\t(\t0.0000000000 160.0000000000 160.0000000000 0.0000000000 160.0000000000 )\t-148.7310000000\r\n",
      "\t  13\t(\t20.0000000000 150.0000000000 150.0000000000 10.0000000000 150.0000000000 )\t-150.8720000000\r\n",
      "\t  14\t(\t40.0000000000 160.0000000000 160.0000000000 10.0000000000 160.0000000000 )\t-164.8030000000\r\n",
      "\t  20\t(\t50.0000000000 160.0000000000 160.0000000000 0.0000000000 160.0000000000 )\t-165.2940000000\r\n",
      "\t  34\t(\t70.0000000000 150.0000000000 160.0000000000 10.0000000000 140.0000000000 )\t-166.3350000000\r\n",
      "\t  35\t(\t90.0000000000 150.0000000000 160.0000000000 0.0000000000 130.0000000000 )\t-166.9240000000\r\n",
      "\t  48\t(\t100.0000000000 160.0000000000 140.0000000000 0.0000000000 130.0000000000 )\t-168.3690000000\r\n",
      "\t  63\t(\t120.0000000000 150.0000000000 120.0000000000 20.0000000000 120.0000000000 )\t-168.7340000000\r\n",
      "\t  94\t(\t120.0000000000 150.0000000000 100.0000000000 30.0000000000 130.0000000000 )\t-168.8170000000\r\n",
      "\t 108\t(\t118.7000000000 150.0000000000 120.0000000000 20.0000000000 130.0000000000 )\t-171.0430000000\r\n",
      "\t 112\t(\t118.7000000000 160.0000000000 110.0000000000 10.0000000000 140.0000000000 )\t-171.3770000000\r\n",
      "\t 198\t(\t118.6240000000 159.3300000000 112.6000000000 9.7000000000 138.6000000000 )\t-171.3960000000\r\n",
      "\t 215\t(\t118.7970000000 159.9490000000 111.9000000000 11.3000000000 136.8000000000 )\t-171.4140000000\r\n",
      "\t 220\t(\t119.5530000000 159.3330000000 113.2000000000 12.8000000000 133.9000000000 )\t-171.4210000000\r\n",
      "\t 221\t(\t120.0760000000 159.1740000000 112.9000000000 14.7000000000 131.9000000000 )\t-171.4220000000\r\n",
      "\t 257\t(\t119.6930000000 159.2370000000 113.2000000000 13.3060000000 133.4080000000 )\t-171.4370000000\r\n",
      "\t 290\t(\t119.7185600000 159.3760000000 112.8000000000 13.4200000000 133.5130000000 )\t-171.4400000000\r\n",
      "\t 291\t(\t119.7952400000 159.7930000000 111.6000000000 13.7620000000 133.8280000000 )\t-171.4460000000\r\n",
      "\t 296\t(\t119.5382400000 159.5650000000 110.8000000000 16.0620000000 132.8280000000 )\t-171.4560000000\r\n",
      "\t 321\t(\t119.7202400000 159.6410000000 111.1000000000 16.6620000000 131.7280000000 )\t-171.4770000000\r\n",
      "\t 351\t(\t119.6392400000 159.6740000000 110.9220000000 17.5490000000 131.0540000000 )\t-171.4780000000\r\n",
      "\t 352\t(\t119.5072400000 159.7210000000 110.7600000000 18.8700000000 129.9820000000 )\t-171.4830000000\r\n",
      "\t 362\t(\t119.5052400000 159.6290000000 110.6060000000 18.4500000000 130.6650000000 )\t-171.4840000000\r\n",
      "\t 369\t(\t119.3952400000 159.7660000000 110.6130000000 20.4140000000 128.6540000000 )\t-171.4860000000\r\n",
      "\t 370\t(\t119.4252400000 159.8790000000 110.8370000000 20.9720000000 127.7270000000 )\t-171.4880000000\r\n",
      "\t 372\t(\t119.5602400000 159.8230000000 111.0400000000 19.0930000000 129.3360000000 )\t-171.4890000000\r\n",
      "\t 374\t(\t119.2952400000 159.7680000000 110.4160000000 21.2400000000 128.1350000000 )\t-171.4900000000\r\n",
      "\t 379\t(\t119.4472400000 159.9580000000 110.9690000000 21.0520000000 127.4220000000 )\t-171.4910000000\r\n",
      "\t 423\t(\t119.4704700000 159.9390000000 110.8150000000 21.0020000000 127.6280000000 )\t-171.4930000000\r\n",
      "\t 428\t(\t119.5894700000 159.9260000000 109.7150000000 21.7020000000 127.9210000000 )\t-171.4970000000\r\n",
      "\t 506\t(\t119.7284000000 159.9496000000 109.6430000000 21.5970000000 127.9360000000 )\t-171.4980000000\r\n",
      "\t 526\t(\t119.7664000000 159.9656900000 109.3120000000 21.6740000000 128.1370000000 )\t-171.5000000000\r\n",
      "\t1094\t(\t119.7664000000 159.9656900000 109.3120000000 21.6740000000 128.1370000000 )\t-171.5000000000\r\n",
      "\r\n",
      "} end of run (mesh size reached NOMAD precision)\r\n",
      "\r\n",
      "blackbox evaluations                     : 1094\r\n",
      "best infeasible solution (min. violation): ( 119.7648113 159.9664628 109.3206865 21.67624084 128.1272063 ) h=1.13687e-13 f=-171.5\r\n",
      "best feasible solution                   : ( 119.7664 159.96569 109.312 21.674 128.137 ) h=0 f=-171.5\r\n",
      "\n"
     ]
    }
   ],
   "source": [
    "print(a)"
   ]
  },
  {
   "cell_type": "markdown",
   "id": "171154d2",
   "metadata": {},
   "source": [
    "**On définit des fonctions qui servent à traiter la réponse générée ci-dessus pour récupérer les données pertinentes telles que le nombre d'évaluation, la valeur optimale des débits alloués et la fonction objectif**"
   ]
  },
  {
   "cell_type": "code",
   "execution_count": 37,
   "id": "4558aa77",
   "metadata": {},
   "outputs": [],
   "source": [
    "#FONCTIONS AUXILIAIRES POUR RECUPER LA SOLUTION OPTIMALE\n",
    "def detection_egale(text):\n",
    "        i=-1\n",
    "        while text[i]!=\"=\":\n",
    "                i-=1\n",
    "        return i\n",
    "def detection_debit(text):\n",
    "        i=detection_egale(text)\n",
    "        while text[i]!=\")\":\n",
    "                i-=1\n",
    "        j=i\n",
    "        while text[j]!='(':\n",
    "                j-=1\n",
    "        return text[j+2:i-1].split(' ')\n",
    "def nombre_eval(a):\n",
    "    j=0\n",
    "    k=0\n",
    "    l=0\n",
    "    for i in range(len(a)):\n",
    "        if a[len(a)-2-i:len(a)-1-i]==\"\\n\":\n",
    "            j+=1\n",
    "        if j==1:\n",
    "            k=len(a)-1-i\n",
    "        if j==2:\n",
    "            l=len(a)-1-i\n",
    "        \n",
    "    return a[l+41:k-3]"
   ]
  },
  {
   "cell_type": "markdown",
   "id": "fb9bf7d8",
   "metadata": {},
   "source": [
    "**Les valeurs récupérées sont stockées dans des listes**"
   ]
  },
  {
   "cell_type": "code",
   "execution_count": 38,
   "id": "c8018892",
   "metadata": {},
   "outputs": [],
   "source": [
    "#ON STOCKE LES RESULTATS DE LA PRODUCTION OPTIMALE AINSI QUE DES DEBITS DE CHAQUE TURBINE\n",
    "f_objectif=abs(float(a[detection_egale(a)+1:-2]))\n",
    "debits=detection_debit(a)\n",
    "for i in range(len(debits)):\n",
    "        debits[i]=float(debits[i])"
   ]
  },
  {
   "cell_type": "markdown",
   "id": "20db2503",
   "metadata": {},
   "source": [
    "**Fonctions de la hauteur de chute nette et de la production de chacune des turbines**"
   ]
  },
  {
   "cell_type": "code",
   "execution_count": 39,
   "id": "da407d41",
   "metadata": {},
   "outputs": [],
   "source": [
    "#FONCTIONS DE CALCUL DE HAUTEUR DE CHUTE NETTE ET DE PUISSANCE DE CHAQUE TURBINE\n",
    "def height_func(debit_total):\n",
    "    return 137.88-(-1.453 * 10**-6 * debit_total**2 + 7.022 * 10**-3 * debit_total + 99.98)\n",
    "\n",
    "def turbine1_power_func(debit,elam):\n",
    "    return(-59.69+3.953*elam-0.06332*debit-0.06438*elam**2+0.01196*debit*elam-0.0003698*debit**2)\n",
    "\n",
    "def turbine2_power_func(debit,elam):\n",
    "    return 81.59-4.138*elam-0.2848*debit+0.05147*elam**2+0.01775*debit*elam-0.0001112*debit**2\n",
    "\n",
    "def turbine3_power_func(debit,elam):\n",
    "    return -134+7.882*elam+0.1156*debit-0.1159*elam**2+0.007561*debit*elam-0.0005412*debit**2\n",
    "\n",
    "def turbine4_power_func(debit,elam):\n",
    "    return 629-28.21*elam-2.143*debit+0.292*elam**2+0.06985*debit*elam-0.0002132*debit**2\n",
    "\n",
    "def turbine5_power_func(debit,elam):\n",
    "    return -54.64+3.403*elam+0.01165*debit-0.05268*elam**2+0.01091*debit*elam-0.0004945*debit**2\n"
   ]
  },
  {
   "cell_type": "markdown",
   "id": "a818cb7f",
   "metadata": {},
   "source": [
    "**PARTIE RESULTATS POUR LA PREMIERE LIGNE**"
   ]
  },
  {
   "cell_type": "code",
   "execution_count": 16,
   "id": "17158b79",
   "metadata": {},
   "outputs": [
    {
     "name": "stdout",
     "output_type": "stream",
     "text": [
      "La puissance turbinée dans toute la centrale est de : 181.699\n"
     ]
    }
   ],
   "source": [
    "#PRODUCTION OPTIMALE DE LA PUISSANCE D'ENERGIE\n",
    "print(\"La puissance turbinée dans toute la centrale est de : \"+str(f_objectif))"
   ]
  },
  {
   "cell_type": "code",
   "execution_count": 20,
   "id": "bab26e0c",
   "metadata": {},
   "outputs": [
    {
     "name": "stdout",
     "output_type": "stream",
     "text": [
      "Turbine 1 : 135.00619\n",
      "Turbine 2 : 159.9965909\n",
      "Turbine 3 : 119.69081\n",
      "Turbine 4 : 22.08443\n",
      "Turbine 5 : 141.2276\n",
      "Le débit total turbiné est de 578.0056208999999 pour un maximum de 578.0056762695312\n"
     ]
    }
   ],
   "source": [
    "#DEBIT DE CHAQUE TURBINE\n",
    "for i in range(len(debits)):\n",
    "    print(\"Turbine \"+str(i+1)+\" : \"+str(debits[i]))\n",
    "print('Le débit total turbiné est de '+str(sum(debits))+\" pour un maximum de \"+str(debit_total[0]))"
   ]
  },
  {
   "cell_type": "markdown",
   "id": "0f9de0bd",
   "metadata": {},
   "source": [
    "**BOUCLE POUR LES 100 LIGNES**"
   ]
  },
  {
   "cell_type": "code",
   "execution_count": 41,
   "id": "400dd680",
   "metadata": {},
   "outputs": [
    {
     "name": "stdout",
     "output_type": "stream",
     "text": [
      "0\n",
      "1\n",
      "2\n",
      "3\n",
      "4\n",
      "5\n",
      "6\n",
      "7\n",
      "8\n",
      "9\n",
      "10\n",
      "11\n",
      "12\n",
      "13\n",
      "14\n",
      "15\n",
      "16\n",
      "17\n",
      "18\n",
      "19\n",
      "20\n",
      "21\n",
      "22\n",
      "23\n",
      "24\n",
      "25\n",
      "26\n",
      "27\n",
      "28\n",
      "29\n",
      "30\n",
      "31\n",
      "32\n",
      "33\n",
      "34\n",
      "35\n",
      "36\n",
      "37\n",
      "38\n",
      "39\n",
      "40\n",
      "41\n",
      "42\n",
      "43\n",
      "44\n",
      "45\n",
      "46\n",
      "47\n",
      "48\n",
      "49\n",
      "50\n",
      "51\n",
      "52\n",
      "53\n",
      "54\n",
      "55\n",
      "56\n",
      "57\n",
      "58\n",
      "59\n",
      "60\n",
      "61\n",
      "62\n",
      "63\n",
      "64\n",
      "65\n",
      "66\n",
      "67\n",
      "68\n",
      "69\n",
      "70\n",
      "71\n",
      "72\n",
      "73\n",
      "74\n",
      "75\n",
      "76\n",
      "77\n",
      "78\n",
      "79\n",
      "80\n",
      "81\n",
      "82\n",
      "83\n",
      "84\n",
      "85\n",
      "86\n",
      "87\n",
      "88\n",
      "89\n",
      "90\n",
      "91\n",
      "92\n",
      "93\n",
      "94\n",
      "95\n",
      "96\n",
      "97\n",
      "98\n",
      "99\n"
     ]
    },
    {
     "ename": "NameError",
     "evalue": "name 'b' is not defined",
     "output_type": "error",
     "traceback": [
      "\u001b[1;31m---------------------------------------------------------------------------\u001b[0m",
      "\u001b[1;31mNameError\u001b[0m                                 Traceback (most recent call last)",
      "Cell \u001b[1;32mIn[41], line 29\u001b[0m\n\u001b[0;32m     27\u001b[0m     debits\u001b[38;5;241m=\u001b[39m[]\n\u001b[0;32m     28\u001b[0m end\u001b[38;5;241m=\u001b[39mtime\u001b[38;5;241m.\u001b[39mtime()\n\u001b[1;32m---> 29\u001b[0m temps\u001b[38;5;241m=\u001b[39m\u001b[43mb\u001b[49m\u001b[38;5;241m-\u001b[39ma\n",
      "\u001b[1;31mNameError\u001b[0m: name 'b' is not defined"
     ]
    }
   ],
   "source": [
    "import time\n",
    "time_list=[]    # LISTE POUR STOCKER LE TEMPS D'EXEC DE CHAQUE LIGNE\n",
    "fonction_objetif_par_date=[] # LISTE POUR STOCKER LA VALEUR OPTIMALE DE LA FONCTION OBJ\n",
    "debit_par_date=[]# LISTE POUR STOCKER LES DEBITS DE TURBINE DE CHAQUE LIGNE\n",
    "eval_list=[]# LISTE POUR STOCKER LE NOMBRE D'EVALUATIONS NECESSAIRES POUR CHAQUE LIGNE\n",
    "for i in range(100): #COMPTEUR POUR CHAQUE LIGNE\n",
    "#ECRITURE SUR LE FICHIER TEXTE QUI CONTIENT LA VALEUR DU DEBIT TOTAL\n",
    "    print(i)\n",
    "    with open(\"data.txt\", \"w\") as fichier:\n",
    "        fichier.write(str(debit_total[i]))\n",
    "        fichier.close()\n",
    "    start=time.time()  # TEMPS DU DEBUT D'EXECUTION\n",
    "    path = os.path.abspath('param.txt')\n",
    "    result = subprocess.run(['cmd', '/c', 'nomad','param.txt'], stdout=subprocess.PIPE)\n",
    "    a=result.stdout.decode('utf-8')\n",
    "    end=time.time() #TEMPS DE FIN D'EXECUTION\n",
    "    time_list.append(end-start)\n",
    "    \n",
    "    eval_list.append(nombre_eval(a))\n",
    "\n",
    "    f_objectif=abs(float(a[detection_egale(a)+1:-2]))\n",
    "    fonction_objetif_par_date.append(f_objectif)\n",
    "    debits=detection_debit(a)\n",
    "    for i in range(len(debits)):\n",
    "            debits[i]=float(debits[i])\n",
    "    debit_par_date.append(debits)\n",
    "    debits=[]"
   ]
  },
  {
   "cell_type": "markdown",
   "id": "55cab209",
   "metadata": {},
   "source": [
    "**ON PEUT AFFICHER LES VALEURS DE LA FONCTION OBJECTI POUR CHACUNE DES 100 LIGNES**"
   ]
  },
  {
   "cell_type": "code",
   "execution_count": 42,
   "id": "1b3e2e31",
   "metadata": {},
   "outputs": [
    {
     "data": {
      "text/plain": [
       "[181.699,\n",
       " 182.241,\n",
       " 181.827,\n",
       " 182.234,\n",
       " 180.696,\n",
       " 181.234,\n",
       " 182.172,\n",
       " 180.621,\n",
       " 178.894,\n",
       " 179.038,\n",
       " 179.567,\n",
       " 179.343,\n",
       " 179.926,\n",
       " 179.277,\n",
       " 179.834,\n",
       " 179.834,\n",
       " 178.599,\n",
       " 179.768,\n",
       " 178.13,\n",
       " 179.0,\n",
       " 178.948,\n",
       " 178.205,\n",
       " 175.982,\n",
       " 176.96,\n",
       " 178.04,\n",
       " 177.452,\n",
       " 176.957,\n",
       " 176.351,\n",
       " 176.297,\n",
       " 176.679,\n",
       " 175.605,\n",
       " 177.957,\n",
       " 177.643,\n",
       " 178.202,\n",
       " 178.058,\n",
       " 177.619,\n",
       " 178.022,\n",
       " 178.154,\n",
       " 177.936,\n",
       " 178.205,\n",
       " 176.555,\n",
       " 199.48,\n",
       " 202.024,\n",
       " 202.237,\n",
       " 202.389,\n",
       " 202.125,\n",
       " 202.226,\n",
       " 184.931,\n",
       " 178.964,\n",
       " 178.239,\n",
       " 178.095,\n",
       " 178.004,\n",
       " 178.08,\n",
       " 177.413,\n",
       " 177.63,\n",
       " 179.921,\n",
       " 181.199,\n",
       " 179.831,\n",
       " 179.693,\n",
       " 179.782,\n",
       " 201.853,\n",
       " 202.473,\n",
       " 202.516,\n",
       " 202.311,\n",
       " 202.286,\n",
       " 203.322,\n",
       " 202.378,\n",
       " 201.974,\n",
       " 201.974,\n",
       " 204.263,\n",
       " 187.321,\n",
       " 179.15,\n",
       " 178.258,\n",
       " 180.166,\n",
       " 180.12,\n",
       " 179.324,\n",
       " 179.712,\n",
       " 178.34,\n",
       " 178.751,\n",
       " 179.826,\n",
       " 179.177,\n",
       " 179.234,\n",
       " 178.92,\n",
       " 179.498,\n",
       " 176.404,\n",
       " 174.545,\n",
       " 176.046,\n",
       " 173.928,\n",
       " 172.26,\n",
       " 172.871,\n",
       " 173.74,\n",
       " 173.239,\n",
       " 174.337,\n",
       " 172.956,\n",
       " 173.568,\n",
       " 173.264,\n",
       " 173.081,\n",
       " 171.97,\n",
       " 172.387,\n",
       " 171.5]"
      ]
     },
     "execution_count": 42,
     "metadata": {},
     "output_type": "execute_result"
    }
   ],
   "source": [
    "fonction_objetif_par_date"
   ]
  },
  {
   "cell_type": "markdown",
   "id": "fb9e01e9",
   "metadata": {},
   "source": [
    "**ON ENVOIE LES VALEURS CI-DESSUS DANS LE FICHIER \"f_obj.txt\"**"
   ]
  },
  {
   "cell_type": "code",
   "execution_count": 43,
   "id": "2dc62cbf",
   "metadata": {},
   "outputs": [],
   "source": [
    "i=0\n",
    "with open(\"f_obj.txt\", \"w\") as fichier:\n",
    "    for i in range(len(fonction_objetif_par_date)):\n",
    "        fichier.write(str(fonction_objetif_par_date[i])+\"\\n\")\n",
    "    fichier.close()"
   ]
  },
  {
   "cell_type": "markdown",
   "id": "34f5b0c0",
   "metadata": {},
   "source": [
    "**ON PEUT AFFICHER LES VALEURS DU DEBIT DE CHAQUE TURBINE POUR CHACUNE DES 100 LIGNES**"
   ]
  },
  {
   "cell_type": "code",
   "execution_count": 44,
   "id": "8a3d562d",
   "metadata": {},
   "outputs": [
    {
     "data": {
      "text/plain": [
       "[135.00619, 159.9965909, 119.69081, 22.08443, 141.2276]"
      ]
     },
     "execution_count": 44,
     "metadata": {},
     "output_type": "execute_result"
    }
   ],
   "source": [
    "debit_par_date[0]"
   ]
  },
  {
   "cell_type": "markdown",
   "id": "284293a6",
   "metadata": {},
   "source": [
    "**ON ENVOIE LES VALEURS CI-DESSUS DANS LE FICHIER \"debits.txt\"**"
   ]
  },
  {
   "cell_type": "code",
   "execution_count": 45,
   "id": "f1894025",
   "metadata": {},
   "outputs": [],
   "source": [
    "with open(\"debits.txt\", \"w\") as fichier:\n",
    "    for i in range(len(debit_par_date)):\n",
    "        for j in range(5):\n",
    "            fichier.write(str(debit_par_date[i][j])+\",\")\n",
    "        fichier.write(\"\\n\")\n",
    "    fichier.close()"
   ]
  },
  {
   "cell_type": "markdown",
   "id": "0b577910",
   "metadata": {},
   "source": [
    "**ON ENVOIE LES VALEURS DU TEMPS D'EXECUTION DANS LE FICHIER \"time.txt\"**"
   ]
  },
  {
   "cell_type": "code",
   "execution_count": 46,
   "id": "ec2e1928",
   "metadata": {},
   "outputs": [],
   "source": [
    "with open(\"time.txt\", \"w\") as fichier:\n",
    "    for i in range(len(time_list)):\n",
    "        fichier.write(str(time_list[i])+\"\\n\")\n",
    "    fichier.close()"
   ]
  },
  {
   "cell_type": "markdown",
   "id": "a4c0775a",
   "metadata": {},
   "source": [
    "**ON ENVOIE LES VALEURS DU NOMBRE D'EVALUATION DANS LE FICHIER \"debits.txt\"**"
   ]
  },
  {
   "cell_type": "code",
   "execution_count": 47,
   "id": "ed7d97af",
   "metadata": {},
   "outputs": [],
   "source": [
    "with open(\"evaluation.txt\", \"w\") as fichier:\n",
    "    for i in range(len(eval_list)):\n",
    "        fichier.write(str(eval_list[i])+\"\\n\")\n",
    "    fichier.close()"
   ]
  }
 ],
 "metadata": {
  "kernelspec": {
   "display_name": "Python 3 (ipykernel)",
   "language": "python",
   "name": "python3"
  },
  "language_info": {
   "codemirror_mode": {
    "name": "ipython",
    "version": 3
   },
   "file_extension": ".py",
   "mimetype": "text/x-python",
   "name": "python",
   "nbconvert_exporter": "python",
   "pygments_lexer": "ipython3",
   "version": "3.11.1"
  }
 },
 "nbformat": 4,
 "nbformat_minor": 5
}
